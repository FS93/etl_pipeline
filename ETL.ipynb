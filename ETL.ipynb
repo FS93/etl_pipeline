{
 "cells": [
  {
   "cell_type": "markdown",
   "metadata": {},
   "source": [
    "# Pakete importieren & Jupyter-Einstellungen"
   ]
  },
  {
   "cell_type": "code",
   "execution_count": 211,
   "metadata": {},
   "outputs": [],
   "source": [
    "import pandas as pd\n",
    "import numpy as np\n",
    "import os\n",
    "\n",
    "#Multiple Outputs für eine Codezelle\n",
    "#from IPython.core.interactiveshell import InteractiveShell\n",
    "#InteractiveShell.ast_node_interactivity = \"all\"\n"
   ]
  },
  {
   "cell_type": "markdown",
   "metadata": {},
   "source": [
    "# Working Directory einstellen"
   ]
  },
  {
   "cell_type": "code",
   "execution_count": 212,
   "metadata": {},
   "outputs": [
    {
     "data": {
      "text/plain": [
       "'/home/florian/Daten/Dokumente/Studium/SS2021/Data Warehousing/Projekt/dwh-etl'"
      ]
     },
     "execution_count": 212,
     "metadata": {},
     "output_type": "execute_result"
    }
   ],
   "source": [
    "#Notebook liegt in dwh-etl/code - gehe in dwh-etl falls nötig\n",
    "os.getcwd()[-12:]\n",
    "if os.getcwd()[-12:] in ['dwh-etl/code', 'dwh-etl\\code']:\n",
    "    os.chdir(\"..\")\n",
    "os.getcwd()\n",
    "\n"
   ]
  },
  {
   "cell_type": "markdown",
   "metadata": {},
   "source": [
    "# Inputs einlesen"
   ]
  },
  {
   "cell_type": "code",
   "execution_count": 213,
   "metadata": {
    "pycharm": {
     "name": "#%%\n"
    },
    "scrolled": true
   },
   "outputs": [],
   "source": [
    "rki = pd.read_csv('input/rki/rki_2021_08_21_input.csv', sep=\",\")\n",
    "lk = pd.read_csv('input/landkreise/Landkreise.csv', sep=\",\")\n",
    "divi = pd.read_csv('input/divi/divi_2021_08_20_input.csv',sep=\",\")\n",
    "impf = pd.read_csv('input/impfdashboard/impfungen_2021_08_20_input.tsv', sep=\"\\t\")\n",
    "#Zeilen mit Nullwerten (\"-\") löschen\n",
    "ag = pd.read_csv(\"input/destatis/altersgruppen.csv\",sep=\";\", na_values='-').dropna()\n"
   ]
  },
  {
   "cell_type": "markdown",
   "metadata": {},
   "source": [
    "# CSV-Ladedateien erstellen"
   ]
  },
  {
   "cell_type": "markdown",
   "metadata": {},
   "source": [
    "## faelle_output.csv - COVID-19-Fallzahlen vom RKI"
   ]
  },
  {
   "cell_type": "code",
   "execution_count": 214,
   "metadata": {},
   "outputs": [],
   "source": [
    "#Dimensionen einer Fallgruppe\n",
    "dimensionen = [\"IdLandkreis\", \"Altersgruppe\", \"Geschlecht\", \"Meldedatum\"]\n",
    "\n",
    "#Gruppieren & berechnen der Anzahl der gemeldeten Fälle pro Fallgruppe\n",
    "\n",
    "#Neue Fälle\n",
    "nf = rki.groupby(dimensionen, as_index=False).sum(\"AnzahlFall\").sort_values(by=dimensionen)[dimensionen+[\"AnzahlFall\"]]\n",
    "\n",
    "#Neu Genesene\n",
    "ng = rki.loc[rki.NeuGenesen != -9].groupby(dimensionen, as_index=False).sum(\"AnzahlGenesen\").sort_values(by=dimensionen)[dimensionen+[\"AnzahlGenesen\"]]\n",
    "\n",
    "#Neue Todesfälle\n",
    "nt = rki.loc[rki.NeuerTodesfall != -9].groupby(dimensionen, as_index=False).sum(\"AnzahlTodesfall\").sort_values(by=dimensionen)[dimensionen+[\"AnzahlTodesfall\"]]\n",
    "\n",
    "\n",
    "#Spalten für Anzahl umbenennen\n",
    "nf = nf.rename(columns={'AnzahlFall': 'Anzahl'})\n",
    "ng = ng.rename(columns={'AnzahlGenesen': 'Anzahl'})\n",
    "nt = nt.rename(columns={'AnzahlTodesfall': 'Anzahl'})\n",
    "\n",
    "\n",
    "#Spalte \"Falltyp\" anhängen\n",
    "nf = nf.assign(Falltyp_ID = 0)\n",
    "ng = ng.assign(Falltyp_ID = 1)\n",
    "nt = nt.assign(Falltyp_ID = 2)\n",
    "\n",
    "#Zusammenfügen zu faelle\n",
    "faelle = pd.concat([nf,ng,nt])\n",
    "\n",
    "#Berliner Bezirke zu ganz Berlin aggregieren\n",
    "berlin_agg = faelle[faelle.IdLandkreis // 1000 ==\n",
    "                    11].groupby([\"Altersgruppe\", \"Geschlecht\", \"Meldedatum\", \"Falltyp_ID\"], as_index=False).sum(\"Anzahl\").assign(IdLandkreis=11000)\n",
    "\n",
    "#Daten der einzelnen Bezirke löschen\n",
    "faelle.drop(faelle[(faelle.IdLandkreis // 1000 == 11) &\n",
    "            (faelle.IdLandkreis % 11000 > 0)].index, inplace=True)\n",
    "\n",
    "#aggregierte Daten anhängen\n",
    "faelle = pd.concat([faelle, berlin_agg])\n",
    "\n",
    "\n",
    "#Mappen von Spaltenwerten\n",
    "faelle = faelle.replace({\n",
    "        'Geschlecht': \n",
    "        {\n",
    "            'M': 0,\n",
    "            'W': 1,\n",
    "            'D': 2,\n",
    "            'unbekannt': 3\n",
    "        },\n",
    "        'Altersgruppe': \n",
    "        {\n",
    "            'A00-A04': 0,\n",
    "            'A05-A14': 1,\n",
    "            'A15-A34': 2,\n",
    "            'A35-A59': 3,\n",
    "            'A60-A79': 4,\n",
    "            'A80+': 5,\n",
    "            'unbekannt': 6\n",
    "\n",
    "        }\n",
    "    }\n",
    "\n",
    ")\n",
    "\n",
    "#Umbennen von Spalten\n",
    "faelle = faelle.rename(columns={'Geschlecht': 'Geschlecht_ID','Altersgruppe': 'AG_fein_ID'})\n",
    "\n",
    "\n",
    "\n",
    "#Mappen von IdLandkreis auf Landkreis_ID aus der Basisdatenbank\n",
    "faelle = pd.merge(faelle, lk, left_on= 'IdLandkreis', right_on = 'AGS', how='left')\n",
    "faelle = faelle[[\"Landkreis_ID\", \"AG_fein_ID\",\"Geschlecht_ID\", \"Meldedatum\", \"Falltyp_ID\", \"Anzahl\"]]\n",
    "\n",
    "\n",
    "#Ausgeben als CSV\n",
    "faelle.to_csv('output/faelle_output.csv',index=True, index_label='Fall_ID', line_terminator='\\r\\n')\n"
   ]
  },
  {
   "cell_type": "markdown",
   "metadata": {},
   "source": [
    "## betten_output.csv - Bettenbelegungen gemäß DIVI-Intensivregister"
   ]
  },
  {
   "cell_type": "code",
   "execution_count": 215,
   "metadata": {},
   "outputs": [
    {
     "name": "stderr",
     "output_type": "stream",
     "text": [
      "<ipython-input-215-cb9014b926d8>:8: SettingWithCopyWarning: \n",
      "A value is trying to be set on a copy of a slice from a DataFrame.\n",
      "Try using .loc[row_indexer,col_indexer] = value instead\n",
      "\n",
      "See the caveats in the documentation: https://pandas.pydata.org/pandas-docs/stable/user_guide/indexing.html#returning-a-view-versus-a-copy\n",
      "  bnc['Anzahl'] = divi['betten_belegt'] - divi['faelle_covid_aktuell']\n",
      "<ipython-input-215-cb9014b926d8>:17: SettingWithCopyWarning: \n",
      "A value is trying to be set on a copy of a slice from a DataFrame.\n",
      "Try using .loc[row_indexer,col_indexer] = value instead\n",
      "\n",
      "See the caveats in the documentation: https://pandas.pydata.org/pandas-docs/stable/user_guide/indexing.html#returning-a-view-versus-a-copy\n",
      "  bcni['Anzahl'] = divi['faelle_covid_aktuell'] - \\\n"
     ]
    }
   ],
   "source": [
    "spalten = [\"date\", \"gemeindeschluessel\"]\n",
    "\n",
    "#Bettenstatus frei\n",
    "bf = divi[spalten + [\"betten_frei\"]].assign(Status_ID = 0).rename(columns={'betten_frei': 'Anzahl'})\n",
    "\n",
    "#Bettenstatus belegt - Nicht COVID\n",
    "bnc = divi[spalten]\n",
    "bnc['Anzahl'] = divi['betten_belegt'] - divi['faelle_covid_aktuell']\n",
    "bnc = bnc.assign(Status_ID = 1)\n",
    "\n",
    "#Bettenstatus belegt - COVID invasiv\n",
    "bci = divi[spalten + [\"faelle_covid_aktuell_invasiv_beatmet\"]\n",
    "           ].assign(Status_ID = 2).rename(columns={'faelle_covid_aktuell_invasiv_beatmet': 'Anzahl'})\n",
    "\n",
    "#Bettenstatus belegt - COVID nicht invasiv\n",
    "bcni = divi[spalten]\n",
    "bcni['Anzahl'] = divi['faelle_covid_aktuell'] - \\\n",
    "    divi['faelle_covid_aktuell_invasiv_beatmet']\n",
    "bcni = bcni.assign(Status_ID = 3)\n",
    "\n",
    "\n",
    "#Zusammenfuegen zu betten\n",
    "betten = pd.concat([bf, bnc, bci, bcni])\n",
    "\n",
    "#Spalten umbenennen\n",
    "betten = betten.rename(columns={'date': 'Datum'})\n",
    "\n",
    "#Mappen von gemeindeschluessel auf Landkreis_ID aus der Basisdatenbank\n",
    "betten = pd.merge(betten, lk, left_on='gemeindeschluessel',\n",
    "                  right_on='AGS', how='left')\n",
    "betten.Landkreis_ID.dtype\n",
    "lk.Landkreis_ID.dtype\n",
    "betten = betten[[\"Datum\", \"Landkreis_ID\", \"Status_ID\", \"Anzahl\"]]\n",
    "\n",
    "#Ausgeben als CSV\n",
    "betten.to_csv('output/betten_output.csv', index=True,\n",
    "              index_label='Bett_ID', line_terminator='\\r\\n')\n"
   ]
  },
  {
   "cell_type": "markdown",
   "metadata": {},
   "source": [
    "## impfungen_output.csv - Verabreichte Impfungen"
   ]
  },
  {
   "cell_type": "code",
   "execution_count": 216,
   "metadata": {},
   "outputs": [],
   "source": [
    "#Tageswerte als Zeilendifferenzen bestimmen & mit Datum versehen\n",
    "impfungen_output = pd.concat([impf.date, impf[['dosen_johnson_kumulativ',\n",
    "                           'dosen_biontech_erst_kumulativ', 'dosen_biontech_zweit_kumulativ',\n",
    "                            'dosen_moderna_erst_kumulativ', 'dosen_moderna_zweit_kumulativ',\n",
    "                            'dosen_astrazeneca_erst_kumulativ', 'dosen_astrazeneca_zweit_kumulativ']].diff()], axis=1)\n",
    "\n",
    "#NaN zu 0 wandeln\n",
    "impfungen_output = impfungen_output.fillna(0)\n",
    "\n",
    "#Spalten umbenennen - 'dosen_' & '_kumulativ' abschneiden & 'date' umbenennen\n",
    "impfungen_output.columns = ['Datum'] + [x[6:-10] for x in impfungen_output.columns[1:]]\n",
    "\n",
    "#Spalten für Werte zu Zeilen machen\n",
    "impfungen_output = impfungen_output.melt(id_vars='Datum').rename(columns={'value': 'Anzahl'})\n",
    "\n",
    "#Datentyp der Anzahl zu int ändern\n",
    "impfungen_output[\"Anzahl\"] = impfungen_output[\"Anzahl\"].astype(int)\n",
    "\n",
    "#Spalten anfügen\n",
    "impfungen_output[\"Impfstoff_ID\"] = impfungen_output.variable.map(\n",
    "     {'biontech_erst': 0, 'biontech_zweit': 0, 'moderna_erst': 1, 'moderna_zweit': 1, 'astrazeneca_erst': 2, 'astrazeneca_zweit': 2, 'johnson': 3})\n",
    "\n",
    "impfungen_output[\"Impfart_ID\"] = impfungen_output.variable.map(\n",
    "    {'biontech_erst': 0, 'biontech_zweit': 1, 'moderna_erst': 0, 'moderna_zweit': 1, 'astrazeneca_erst': 0, 'astrazeneca_zweit': 1, 'johnson': 1})\n",
    "\n",
    "#Spalt\n",
    "impfungen_output.drop(columns='variable', inplace=True)\n",
    "\n",
    "#Ausgeben als CSV\n",
    "impfungen_output.to_csv('output/impfungen_output.csv',\n",
    "                        index=True, index_label='Impfungen_ID', line_terminator='\\r\\n')\n"
   ]
  },
  {
   "cell_type": "markdown",
   "metadata": {},
   "source": [
    "## einwohner_output.csv - Daten zur Alterstruktur"
   ]
  },
  {
   "cell_type": "code",
   "execution_count": 218,
   "metadata": {},
   "outputs": [],
   "source": [
    "#Datentyp auf int ändern - bei import wird automatisch float64 gewählt\n",
    "for c in list(set(ag.columns) - {'Datum', 'ID', 'LK'}):\n",
    "    ag[c] = ag[c].astype(int)\n",
    "\n",
    "#Daten für Altersgruppen aggregieren\n",
    "\n",
    "# --männlich\n",
    "\n",
    "#0-14 Jahre\n",
    "ag[\"männlich#0\"] = ag[\"männlich unter 3 Jahre\"] + ag[\"männlich 3 bis unter 6 Jahre\"] + ag[\"männlich 6 bis unter 10 Jahre\"] + ag[\"männlich 10 bis unter 15 Jahre\"]\n",
    "#15-34 Jahre\n",
    "ag[\"männlich#1\"] = ag[\"männlich 15 bis unter 18 Jahre\"] + ag[\"männlich 18 bis unter 20 Jahre\"] + ag[\"männlich 20 bis unter 25 Jahre\"] + ag[\"männlich 25 bis unter 30 Jahre\"] + ag[\"männlich 30 bis unter 35 Jahre\"]\n",
    "# 35-59 Jahre\n",
    "ag[\"männlich#2\"] = ag[\"männlich 35 bis unter 40 Jahre\"] + ag[\"männlich 40 bis unter 45 Jahre\"] + ag[\"männlich 45 bis unter 50 Jahre\"] + ag[\"männlich 50 bis unter 55 Jahre\"] + ag[\"männlich 55 bis unter 60 Jahre\"]\n",
    "# über 59\n",
    "ag[\"männlich#3\"] = ag[\"männlich 60 bis unter 65 Jahre\"] + ag[\"männlich 65 bis unter 75 Jahre\"] + ag[\"männlich 75 Jahre und mehr\"]\n",
    "\n",
    "\n",
    "# --weiblich\n",
    "\n",
    "ag[\"weiblich#0\"] = ag[\"weiblich unter 3 Jahre\"] + ag[\"weiblich 3 bis unter 6 Jahre\"] + ag[\"weiblich 6 bis unter 10 Jahre\"] + ag[\"weiblich 10 bis unter 15 Jahre\"]\n",
    "#15-34 Jahre\n",
    "ag[\"weiblich#1\"] = ag[\"weiblich 15 bis unter 18 Jahre\"] + ag[\"weiblich 18 bis unter 20 Jahre\"] + ag[\"weiblich 20 bis unter 25 Jahre\"] + \\\n",
    "    ag[\"weiblich 25 bis unter 30 Jahre\"] + ag[\"weiblich 30 bis unter 35 Jahre\"]\n",
    "# 35-59 Jahre\n",
    "ag[\"weiblich#2\"] = ag[\"weiblich 35 bis unter 40 Jahre\"] + ag[\"weiblich 40 bis unter 45 Jahre\"] + ag[\"weiblich 45 bis unter 50 Jahre\"] + \\\n",
    "    ag[\"weiblich 50 bis unter 55 Jahre\"] + ag[\"weiblich 55 bis unter 60 Jahre\"]\n",
    "# über 59\n",
    "ag[\"weiblich#3\"] = ag[\"weiblich 60 bis unter 65 Jahre\"] + ag[\"weiblich 65 bis unter 75 Jahre\"] + ag[\"weiblich 75 Jahre und mehr\"]\n",
    "\n",
    "#Lösche nicht aggregierte Spalten\n",
    "#ag.drop(ag.filter(regex='Jahre').columns, axis=1, inplace=True)\n",
    "\n",
    "#Spalten mit Werten\n",
    "cols = ag.filter(regex='#').columns\n",
    "\n",
    "\n",
    "#Dataframe für Output\n",
    "converted_ag = pd.DataFrame(\n",
    "    columns=[\"Landkreis_ID\", \"AG_grob_ID\", \"Geschlecht_ID\", \"Einwohnerzahl\"])\n",
    "\n",
    "\n",
    "for row in ag.index:\n",
    "    # mappe ag.LK auf Landkreise_ID aus lk\n",
    "    lk_id = \"\"\n",
    "    try:\n",
    "        lk_id = lk[lk['AGS'] == ag[\"ID\"][row]].iloc[0].Landkreis_ID\n",
    "    except:\n",
    "        print(\"no LK_ID found for {0}\".format(ag[\"LK\"][row]))\n",
    "\n",
    "    # Berechne neue Zeilen aus den Wertspalten\n",
    "    newRows = pd.concat([pd.DataFrame(data={\n",
    "        \"Einwohnerzahl\": [int(ag[col][row])],\n",
    "        \"Geschlecht_ID\": [col.find(\"männlich\") != -1 and \"0\" or \"1\"],\n",
    "        \"AG_grob_ID\": [col.replace(\"männlich#\", \"\").replace(\"weiblich#\", \"\")],\n",
    "        \"Landkreis_ID\": [lk_id],\n",
    "    }) for col in cols], ignore_index=True)\n",
    "    converted_ag = converted_ag.append(newRows)\n",
    "\n",
    "#Fortlaufenden Index generieren\n",
    "converted_ag.reset_index(drop=True, inplace=True)\n",
    "\n",
    "\n",
    "#Ausgeben als CSV\n",
    "converted_ag.to_csv('output/einwohner_output.csv',\n",
    "                      index=True, index_label='Einwohner_ID', line_terminator='\\r\\n')\n"
   ]
  }
 ],
 "metadata": {
  "interpreter": {
   "hash": "a1002311f6bd326d71afe3ac68410b73cd01cf848b4ffdf5bc642f26be7988fe"
  },
  "kernelspec": {
   "display_name": "Python 3 (ipykernel)",
   "language": "python",
   "name": "python3"
  },
  "language_info": {
   "codemirror_mode": {
    "name": "ipython",
    "version": 3
   },
   "file_extension": ".py",
   "mimetype": "text/x-python",
   "name": "python",
   "nbconvert_exporter": "python",
   "pygments_lexer": "ipython3",
   "version": "3.9.13"
  }
 },
 "nbformat": 4,
 "nbformat_minor": 2
}
